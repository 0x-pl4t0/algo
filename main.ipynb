{
 "cells": [
  {
   "cell_type": "markdown",
   "metadata": {},
   "source": [
    "**DONT RUN UNLESS ON NEW SERVER** <br>\n",
    "pip instal for needed libraries"
   ]
  },
  {
   "cell_type": "code",
   "execution_count": 10,
   "metadata": {},
   "outputs": [
    {
     "name": "stdout",
     "output_type": "stream",
     "text": [
      "Defaulting to user installation because normal site-packages is not writeable\n",
      "\u001b[31mERROR: Invalid requirement: 'pip install ib_insync pandas numpy matplotlib seaborn statsmodels scipy scikit-learn ta-lib yfinance fredapi dash streamlit arch plotly tensorflow requests beautifulsoup4' (from line 1 of requirements.txt)\u001b[0m\n",
      "\u001b[33mWARNING: You are using pip version 21.2.4; however, version 24.3.1 is available.\n",
      "You should consider upgrading via the '/Library/Developer/CommandLineTools/usr/bin/python3 -m pip install --upgrade pip' command.\u001b[0m\n",
      "Note: you may need to restart the kernel to use updated packages.\n"
     ]
    }
   ],
   "source": [
    "pip install -r requirements.txt"
   ]
  },
  {
   "cell_type": "code",
   "execution_count": 5,
   "metadata": {},
   "outputs": [],
   "source": [
    "import numpy as np\n",
    "import pandas as pd\n",
    "import matplotlib.pyplot as plt\n",
    "from ib_insync import ib\n",
    "from statsmodels.tsa.arima.model import ARIMA\n",
    "from scipy.stats import norm\n",
    "from ibkr_connection import connect_ibkr, disconnect_ibkr"
   ]
  },
  {
   "cell_type": "markdown",
   "metadata": {},
   "source": [
    "**CONNECTION TO IBKR**"
   ]
  },
  {
   "cell_type": "code",
   "execution_count": 8,
   "metadata": {},
   "outputs": [
    {
     "ename": "NameError",
     "evalue": "name 'IB' is not defined",
     "output_type": "error",
     "traceback": [
      "\u001b[0;31m---------------------------------------------------------------------------\u001b[0m",
      "\u001b[0;31mNameError\u001b[0m                                 Traceback (most recent call last)",
      "Cell \u001b[0;32mIn[8], line 2\u001b[0m\n\u001b[1;32m      1\u001b[0m \u001b[38;5;66;03m# Step 1: Connect to IBKR\u001b[39;00m\n\u001b[0;32m----> 2\u001b[0m ib \u001b[38;5;241m=\u001b[39m \u001b[43mIB\u001b[49m()\n\u001b[1;32m      3\u001b[0m ib\u001b[38;5;241m.\u001b[39mconnect(\u001b[38;5;124m'\u001b[39m\u001b[38;5;124m127.0.0.1\u001b[39m\u001b[38;5;124m'\u001b[39m, \u001b[38;5;241m7497\u001b[39m, clientId\u001b[38;5;241m=\u001b[39m\u001b[38;5;241m1\u001b[39m)  \u001b[38;5;66;03m# Connect to IB Gateway/TWS\u001b[39;00m\n",
      "\u001b[0;31mNameError\u001b[0m: name 'IB' is not defined"
     ]
    }
   ],
   "source": [
    "# Step 1: Connect to IBKR\n",
    "ib = IB()\n",
    "ib.connect('127.0.0.1', 7497, clientId=1)  # Connect to IB Gateway/TWS"
   ]
  },
  {
   "cell_type": "markdown",
   "metadata": {},
   "source": [
    "**HISTORICAL DATA FROM US TREASURY 10Y YIELD**"
   ]
  },
  {
   "cell_type": "code",
   "execution_count": 7,
   "metadata": {},
   "outputs": [
    {
     "ename": "NameError",
     "evalue": "name 'Index' is not defined",
     "output_type": "error",
     "traceback": [
      "\u001b[0;31m---------------------------------------------------------------------------\u001b[0m",
      "\u001b[0;31mNameError\u001b[0m                                 Traceback (most recent call last)",
      "Cell \u001b[0;32mIn[7], line 2\u001b[0m\n\u001b[1;32m      1\u001b[0m \u001b[38;5;66;03m# Step 2: Fetch Historical Data (Example: US Treasury Yield 10Y)\u001b[39;00m\n\u001b[0;32m----> 2\u001b[0m contract \u001b[38;5;241m=\u001b[39m \u001b[43mIndex\u001b[49m(\u001b[38;5;124m'\u001b[39m\u001b[38;5;124mIR.10YR\u001b[39m\u001b[38;5;124m'\u001b[39m, \u001b[38;5;124m'\u001b[39m\u001b[38;5;124mEUREX\u001b[39m\u001b[38;5;124m'\u001b[39m)  \u001b[38;5;66;03m# Replace with appropriate IBKR symbol\u001b[39;00m\n\u001b[1;32m      3\u001b[0m bars \u001b[38;5;241m=\u001b[39m ib\u001b[38;5;241m.\u001b[39mreqHistoricalData(\n\u001b[1;32m      4\u001b[0m     contract,\n\u001b[1;32m      5\u001b[0m     endDateTime\u001b[38;5;241m=\u001b[39m\u001b[38;5;124m'\u001b[39m\u001b[38;5;124m'\u001b[39m,\n\u001b[0;32m   (...)\u001b[0m\n\u001b[1;32m     10\u001b[0m     formatDate\u001b[38;5;241m=\u001b[39m\u001b[38;5;241m1\u001b[39m\n\u001b[1;32m     11\u001b[0m )\n\u001b[1;32m     13\u001b[0m \u001b[38;5;66;03m# Convert to DataFrame\u001b[39;00m\n",
      "\u001b[0;31mNameError\u001b[0m: name 'Index' is not defined"
     ]
    }
   ],
   "source": [
    "# Step 2: Fetch Historical Data (Example: US Treasury Yield 10Y)\n",
    "contract = Index('IR.10YR', 'EUREX')  # Replace with appropriate IBKR symbol\n",
    "bars = ib.reqHistoricalData(\n",
    "    contract,\n",
    "    endDateTime='',\n",
    "    durationStr='2 Y',\n",
    "    barSizeSetting='1 month',\n",
    "    whatToShow='MIDPOINT',\n",
    "    useRTH=True,\n",
    "    formatDate=1\n",
    ")\n",
    "\n",
    "# Convert to DataFrame\n",
    "df = util.df(bars)\n",
    "df.set_index('date', inplace=True)\n",
    "df['Interest_Rate'] = df['close']\n",
    "\n",
    "# Step 3: Visualize Historical Data\n",
    "plt.figure(figsize=(10, 6))\n",
    "plt.plot(df['Interest_Rate'], label='10Y Treasury Yield (IBKR)')\n",
    "plt.title('Historical 10Y Treasury Yield')\n",
    "plt.legend()\n",
    "plt.show()\n",
    "\n",
    "# Step 4: Fit ARIMA Model\n",
    "model = ARIMA(df['Interest_Rate'], order=(1, 1, 1))\n",
    "fit = model.fit()\n",
    "\n",
    "# Step 5: Forecast with Monte Carlo Simulation\n",
    "n_forecast = 12  # Forecast 12 months ahead\n",
    "forecast, se, conf_int = fit.forecast(steps=n_forecast, alpha=0.05)\n",
    "\n",
    "simulations = 1000\n",
    "simulated_forecasts = np.zeros((simulations, n_forecast))\n",
    "\n",
    "for i in range(simulations):\n",
    "    noise = np.random.normal(0, se)\n",
    "    simulated_forecasts[i] = forecast + noise\n",
    "\n",
    "mean_forecast = np.mean(simulated_forecasts, axis=0)\n",
    "percentiles = np.percentile(simulated_forecasts, [5, 25, 50, 75, 95], axis=0)\n",
    "\n",
    "# Step 6: Plot Probabilistic Forecast\n",
    "plt.figure(figsize=(10, 6))\n",
    "plt.plot(df['Interest_Rate'], label='Historical Rates')\n",
    "plt.plot(pd.date_range(start=df.index[-1], periods=n_forecast+1, freq='M')[1:], mean_forecast, label='Forecast')\n",
    "plt.fill_between(pd.date_range(start=df.index[-1], periods=n_forecast+1, freq='M')[1:], \n",
    "                 percentiles[0], percentiles[-1], color='gray', alpha=0.3, label='90% CI')\n",
    "plt.title('Probabilistic Forecast for 10Y Treasury Yield (IBKR)')\n",
    "plt.legend()\n",
    "plt.show()\n",
    "\n",
    "# Step 7: Disconnect IBKR\n",
    "ib.disconnect()\n"
   ]
  },
  {
   "cell_type": "code",
   "execution_count": null,
   "metadata": {},
   "outputs": [],
   "source": [
    "# Step 3: Visualize Historical Data\n",
    "plt.figure(figsize=(10, 6))\n",
    "plt.plot(df['Interest_Rate'], label='10Y Treasury Yield (IBKR)')\n",
    "plt.title('Historical 10Y Treasury Yield')\n",
    "plt.legend()\n",
    "plt.show()"
   ]
  },
  {
   "cell_type": "code",
   "execution_count": null,
   "metadata": {},
   "outputs": [],
   "source": [
    "# Step 4: Fit ARIMA Model\n",
    "model = ARIMA(df['Interest_Rate'], order=(1, 1, 1))\n",
    "fit = model.fit()"
   ]
  },
  {
   "cell_type": "code",
   "execution_count": null,
   "metadata": {},
   "outputs": [],
   "source": [
    "# Step 5: Forecast with Monte Carlo Simulation\n",
    "n_forecast = 12  # Forecast 12 months ahead\n",
    "forecast, se, conf_int = fit.forecast(steps=n_forecast, alpha=0.05)\n",
    "\n",
    "simulations = 1000\n",
    "simulated_forecasts = np.zeros((simulations, n_forecast))\n",
    "\n",
    "for i in range(simulations):\n",
    "    noise = np.random.normal(0, se)\n",
    "    simulated_forecasts[i] = forecast + noise\n",
    "\n",
    "mean_forecast = np.mean(simulated_forecasts, axis=0)\n",
    "percentiles = np.percentile(simulated_forecasts, [5, 25, 50, 75, 95], axis=0)\n"
   ]
  },
  {
   "cell_type": "code",
   "execution_count": null,
   "metadata": {},
   "outputs": [],
   "source": [
    "# Step 6: Plot Probabilistic Forecast\n",
    "plt.figure(figsize=(10, 6))\n",
    "plt.plot(df['Interest_Rate'], label='Historical Rates')\n",
    "plt.plot(pd.date_range(start=df.index[-1], periods=n_forecast+1, freq='M')[1:], mean_forecast, label='Forecast')\n",
    "plt.fill_between(pd.date_range(start=df.index[-1], periods=n_forecast+1, freq='M')[1:], \n",
    "                 percentiles[0], percentiles[-1], color='gray', alpha=0.3, label='90% CI')\n",
    "plt.title('Probabilistic Forecast for 10Y Treasury Yield (IBKR)')\n",
    "plt.legend()\n",
    "plt.show()\n",
    "\n",
    "# Step 7: Disconnect IBKR\n",
    "ib.disconnect()"
   ]
  }
 ],
 "metadata": {
  "kernelspec": {
   "display_name": "Python 3",
   "language": "python",
   "name": "python3"
  },
  "language_info": {
   "codemirror_mode": {
    "name": "ipython",
    "version": 3
   },
   "file_extension": ".py",
   "mimetype": "text/x-python",
   "name": "python",
   "nbconvert_exporter": "python",
   "pygments_lexer": "ipython3",
   "version": "3.9.6"
  }
 },
 "nbformat": 4,
 "nbformat_minor": 2
}
